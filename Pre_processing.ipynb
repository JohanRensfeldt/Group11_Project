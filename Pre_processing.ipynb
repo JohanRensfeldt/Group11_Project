{
 "cells": [
  {
   "cell_type": "code",
   "execution_count": 1,
   "id": "e875b2c6",
   "metadata": {},
   "outputs": [],
   "source": [
    "import pandas as pd\n",
    "\n",
    "with open('data/RC_2006-01') as f:\n",
    "    data = pd.read_json(f, lines=True)\n",
    "\n",
    "# general pre processing"
   ]
  },
  {
   "cell_type": "code",
   "execution_count": 2,
   "id": "3ec4052b",
   "metadata": {},
   "outputs": [],
   "source": [
    "# If youo edit this file, use: jupyter nbconvert --to script Pre_processing.ipynb \n",
    "# to conver it to Pre_processing.py and then use from Pre_processing import data to use data"
   ]
  }
 ],
 "metadata": {
  "kernelspec": {
   "display_name": "Python 3 (ipykernel)",
   "language": "python",
   "name": "python3"
  },
  "language_info": {
   "codemirror_mode": {
    "name": "ipython",
    "version": 3
   },
   "file_extension": ".py",
   "mimetype": "text/x-python",
   "name": "python",
   "nbconvert_exporter": "python",
   "pygments_lexer": "ipython3",
   "version": "3.10.6"
  }
 },
 "nbformat": 4,
 "nbformat_minor": 5
}
