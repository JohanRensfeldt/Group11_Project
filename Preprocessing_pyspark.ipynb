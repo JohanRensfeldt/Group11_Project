{
 "cells": [
  {
   "cell_type": "code",
   "execution_count": 1,
   "id": "5b6c399a",
   "metadata": {},
   "outputs": [],
   "source": [
    "import time\n",
    "import pandas as pd\n",
    "from pyspark.sql import SparkSession\n",
    "from operator import add\n",
    "import os\n",
    "from pyspark.sql.functions import col\n",
    "from pyspark.sql.functions import length\n",
    "from pyspark.sql.functions import regexp_replace, lower"
   ]
  },
  {
   "cell_type": "code",
   "execution_count": 2,
   "id": "9d47e5fc",
   "metadata": {},
   "outputs": [
    {
     "name": "stderr",
     "output_type": "stream",
     "text": [
      "WARNING: An illegal reflective access operation has occurred\n",
      "WARNING: Illegal reflective access by org.apache.spark.unsafe.Platform (file:/home/ubuntu/.local/lib/python3.10/site-packages/pyspark/jars/spark-unsafe_2.12-3.2.3.jar) to constructor java.nio.DirectByteBuffer(long,int)\n",
      "WARNING: Please consider reporting this to the maintainers of org.apache.spark.unsafe.Platform\n",
      "WARNING: Use --illegal-access=warn to enable warnings of further illegal reflective access operations\n",
      "WARNING: All illegal access operations will be denied in a future release\n",
      "Using Spark's default log4j profile: org/apache/spark/log4j-defaults.properties\n",
      "Setting default log level to \"WARN\".\n",
      "To adjust logging level use sc.setLogLevel(newLevel). For SparkR, use setLogLevel(newLevel).\n",
      "23/03/02 16:09:58 WARN NativeCodeLoader: Unable to load native-hadoop library for your platform... using builtin-java classes where applicable\n"
     ]
    }
   ],
   "source": [
    "spark_session = SparkSession.builder\\\n",
    ".appName(\"yufengchen_app\")\\\n",
    ".config(\"spark.dynamicAllocation.enabled\", True)\\\n",
    ".config(\"spark.dynamicAllocation.shuffleTracking.enabled\",True)\\\n",
    ".config(\"spark.shuffle.service.enabled\", True)\\\n",
    ".config(\"spark.dynamicAllocation.executorIdleTimeout\",\"30s\")\\\n",
    ".config(\"spark.cores.max\", 4)\\\n",
    ".getOrCreate()\n",
    "\n",
    "spark_context = spark_session.sparkContext\n",
    "spark_context.setLogLevel(\"ERROR\")\n",
    "\n",
    "\n",
    "file_path = '/home/ubuntu/data/RC_2011-08'"
   ]
  },
  {
   "cell_type": "code",
   "execution_count": null,
   "id": "8e3f18ca",
   "metadata": {},
   "outputs": [
    {
     "name": "stderr",
     "output_type": "stream",
     "text": [
      "[Stage 0:=============================>                           (27 + 4) / 53]\r"
     ]
    }
   ],
   "source": [
    "data = spark_session.read.json(file_path).filter((length('body') >= 5) & (~(col('body') == '[deleted]')))"
   ]
  },
  {
   "cell_type": "code",
   "execution_count": null,
   "id": "862a4081",
   "metadata": {},
   "outputs": [],
   "source": [
    "processed_df = data.withColumn('body', lower(regexp_replace('body', \"[^a-zA-Z\\\\s]\", \"\")))"
   ]
  },
  {
   "cell_type": "code",
   "execution_count": null,
   "id": "72b782e1",
   "metadata": {},
   "outputs": [],
   "source": [
    "file_name = os.path.basename(file_path)\n",
    "save_name = '/home/ubuntu/data/Pre_processed_' + file_name\n",
    "save_name"
   ]
  },
  {
   "cell_type": "code",
   "execution_count": null,
   "id": "d818d9ea",
   "metadata": {},
   "outputs": [],
   "source": [
    "processed_df = processed_df.coalesce(1)\n",
    "\n",
    "processed_df.write.json(save_name)"
   ]
  },
  {
   "cell_type": "code",
   "execution_count": null,
   "id": "ff319cac",
   "metadata": {},
   "outputs": [],
   "source": []
  }
 ],
 "metadata": {
  "kernelspec": {
   "display_name": "Python 3 (ipykernel)",
   "language": "python",
   "name": "python3"
  },
  "language_info": {
   "codemirror_mode": {
    "name": "ipython",
    "version": 3
   },
   "file_extension": ".py",
   "mimetype": "text/x-python",
   "name": "python",
   "nbconvert_exporter": "python",
   "pygments_lexer": "ipython3",
   "version": "3.10.6"
  }
 },
 "nbformat": 4,
 "nbformat_minor": 5
}
