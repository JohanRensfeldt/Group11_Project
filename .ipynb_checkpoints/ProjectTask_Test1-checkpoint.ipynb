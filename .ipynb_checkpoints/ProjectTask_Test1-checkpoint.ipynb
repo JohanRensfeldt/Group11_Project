{
 "cells": [
  {
   "cell_type": "code",
   "execution_count": 1,
   "id": "063e0799",
   "metadata": {},
   "outputs": [],
   "source": [
    "## Task: \n",
    "## (1) Which keywords can let your comments get a higher score in Reddit? \n",
    "## 2. Compared the run time of (1) in common way and pyspark\n",
    "\n",
    "\n",
    "import pandas as pd\n",
    "\n",
    "with open('data/RC_2006-01') as f:\n",
    "    data = pd.read_json(f, lines=True)"
   ]
  },
  {
   "cell_type": "code",
   "execution_count": 2,
   "id": "80e2f3d4",
   "metadata": {},
   "outputs": [
    {
     "name": "stdout",
     "output_type": "stream",
     "text": [
      "['subreddit', 'author_flair_css_class', 'created_utc', 'score', 'ups', 'body', 'controversiality', 'link_id', 'stickied', 'subreddit_id', 'gilded', 'retrieved_on', 'distinguished', 'author_flair_text', 'author', 'parent_id', 'edited', 'id']\n"
     ]
    }
   ],
   "source": [
    "column_names = data.columns.tolist()\n",
    "print(column_names)"
   ]
  },
  {
   "cell_type": "code",
   "execution_count": 3,
   "id": "f25a230a",
   "metadata": {},
   "outputs": [],
   "source": [
    "# pre processing\n",
    "data = data[data['body'].str.len() >= 10]\n",
    "data = data.drop(data[data['body'] == '[deleted]'].index)"
   ]
  },
  {
   "cell_type": "code",
   "execution_count": 4,
   "id": "3875bcd6",
   "metadata": {},
   "outputs": [
    {
     "data": {
      "text/plain": [
       "<bound method DataFrame.info of       score                                               body\n",
       "0         0                         early 2006 a probable date\n",
       "1         0  If you are going to post something that has a ...\n",
       "2         2    Microsoft hates it's own products?\\r\\nWho knew?\n",
       "3         2  this looks interesting, but it's already aired...\n",
       "4         0  I have nothing but good things to say about De...\n",
       "...     ...                                                ...\n",
       "3661      4  I find his \"I am a mathematician\" approach kin...\n",
       "3662     -5  I totally did not pick up on that distinction....\n",
       "3663      4  So, having tact filters on both input and outp...\n",
       "3664     -7  Err... I think HPK you are closer to being hom...\n",
       "3665     -1  Here's an example of the lack of diversity of ...\n",
       "\n",
       "[3067 rows x 2 columns]>"
      ]
     },
     "execution_count": 4,
     "metadata": {},
     "output_type": "execute_result"
    }
   ],
   "source": [
    "data = data.loc[:, ['score', 'body']]\n",
    "data.info"
   ]
  },
  {
   "cell_type": "code",
   "execution_count": 5,
   "id": "be7809af",
   "metadata": {},
   "outputs": [],
   "source": [
    "stop_words = ['a', 'an', 'and', 'are', 'as', 'at', 'be', 'but', 'by', 'for', 'if', 'in', 'into', 'is', 'it',\n",
    "              'no', 'not', 'of', 'on', 'or', 'such', 'that', 'the', 'their', 'then', 'there', 'these', 'they',\n",
    "              'this', 'to', 'was', 'will', 'with', '!', '@', '#', '$', '%', '^', '&', '*', '(', ')', '-', \n",
    "              '_', '+', '=', '[', ']', '{', '}', ';', ':', '\"', \"'\", '<', '>', ',', '.', '/', '?', '\\\\', \n",
    "              '|', '`', '~', '']"
   ]
  },
  {
   "cell_type": "code",
   "execution_count": 6,
   "id": "88f4e1c0",
   "metadata": {},
   "outputs": [],
   "source": [
    "word_score = {}\n",
    "word_count = {}\n",
    "for index, row in data.iterrows():\n",
    "    score = row['score']\n",
    "    words_list = row['body'].split()\n",
    "    for word in words_list:\n",
    "        # filter stop word\n",
    "        if word not in stop_words:\n",
    "            if word not in word_count.keys():\n",
    "                word_count[word] = 1\n",
    "                word_score[word] = score\n",
    "            else:\n",
    "                word_count[word] = 1 + word_count[word]\n",
    "                word_score[word] = score + word_score[word]"
   ]
  },
  {
   "cell_type": "code",
   "execution_count": 7,
   "id": "edf56009",
   "metadata": {},
   "outputs": [
    {
     "name": "stdout",
     "output_type": "stream",
     "text": [
      "24191\n",
      "24191\n",
      "2897\n",
      "2897\n"
     ]
    }
   ],
   "source": [
    "filtered_word_count = {k: v for k, v in word_count.items() if v >= 5}  # filter word appear less than 10 times\n",
    "filtered_word_score = {k: v for k, v in word_score.items() if k in filtered_word_count.keys()}\n",
    "print(len(word_count.keys()))\n",
    "print(len(word_score.keys()))\n",
    "print(len(filtered_word_score.keys()))\n",
    "print(len(filtered_word_count.keys()))"
   ]
  },
  {
   "cell_type": "code",
   "execution_count": 8,
   "id": "79c52152",
   "metadata": {},
   "outputs": [],
   "source": [
    "for word,times in filtered_word_count.items():\n",
    "    if filtered_word_score[word] != 0:\n",
    "        filtered_word_score[word] = filtered_word_score[word]/times\n",
    "    else:\n",
    "        pass"
   ]
  },
  {
   "cell_type": "code",
   "execution_count": 9,
   "id": "50ec03ff",
   "metadata": {},
   "outputs": [
    {
     "name": "stdout",
     "output_type": "stream",
     "text": [
      "Viaweb: 19.5\n",
      "books.: 11.5\n",
      "money,: 10.5\n",
      "spoken: 9.6\n",
      "Stossel: 9.4\n",
      "about,: 9.2\n",
      "loved: 8.833333333333334\n",
      "efficient: 8.8\n",
      "You've: 8.6\n",
      "technical: 8.5\n"
     ]
    }
   ],
   "source": [
    "sorted_filtered_word_score = dict(sorted(filtered_word_score.items(), key=lambda x: x[1], reverse=True))\n",
    "\n",
    "# top 10 word  that may let your comments get a higher score in Reddit\n",
    "for key, value in list(sorted_filtered_word_score.items())[:10]:\n",
    "    print(f\"{key}: {value}\")"
   ]
  },
  {
   "cell_type": "code",
   "execution_count": null,
   "id": "6c447a74",
   "metadata": {},
   "outputs": [],
   "source": []
  }
 ],
 "metadata": {
  "kernelspec": {
   "display_name": "Python 3 (ipykernel)",
   "language": "python",
   "name": "python3"
  },
  "language_info": {
   "codemirror_mode": {
    "name": "ipython",
    "version": 3
   },
   "file_extension": ".py",
   "mimetype": "text/x-python",
   "name": "python",
   "nbconvert_exporter": "python",
   "pygments_lexer": "ipython3",
   "version": "3.10.6"
  }
 },
 "nbformat": 4,
 "nbformat_minor": 5
}
