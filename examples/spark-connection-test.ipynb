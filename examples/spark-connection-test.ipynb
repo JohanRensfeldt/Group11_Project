{
 "cells": [
  {
   "cell_type": "code",
   "execution_count": null,
   "id": "05f37cb1",
   "metadata": {},
   "outputs": [],
   "source": [
    "import pyspark\n",
    "from pyspark.sql import SparkSession\n",
    "from pyspark.conf import SparkConf\n",
    "\n",
    "conf = SparkConf().setAppName(\"spark-connection\")\\\n",
    "                  .setMaster(\"spark://spark-master:7077\")\\\n",
    "                  .set(\"spark.executor.memory\", \"6g\")\\\n",
    "                  .set(\"spark.executor.cores\", \"3\")\n",
    "\n",
    "spark_session = SparkSession.builder\\\n",
    "        .config(conf=conf)\\\n",
    "        .config('spark.driver.bindAddress', '0.0.0.0')\\\n",
    "        .getOrCreate()\n",
    "def add(a, b):\n",
    "    # associative and commutative!\n",
    "    return a + b\n",
    "rdd = spark_session.sparkContext.parallelize(range(10**7))\n",
    "result = rdd.filter(lambda x: x % 2 == 0)\\\n",
    "        .map(lambda x: x ** 2)\\\n",
    "        .reduce(add)\n",
    "print(result)"
   ]
  },
  {
   "cell_type": "code",
   "execution_count": null,
   "id": "bbe101d8",
   "metadata": {},
   "outputs": [],
   "source": [
    "spark_session.stop()"
   ]
  },
  {
   "cell_type": "code",
   "execution_count": null,
   "id": "47add9f1",
   "metadata": {},
   "outputs": [],
   "source": []
  }
 ],
 "metadata": {
  "kernelspec": {
   "display_name": "Python 3 (ipykernel)",
   "language": "python",
   "name": "python3"
  },
  "language_info": {
   "codemirror_mode": {
    "name": "ipython",
    "version": 3
   },
   "file_extension": ".py",
   "mimetype": "text/x-python",
   "name": "python",
   "nbconvert_exporter": "python",
   "pygments_lexer": "ipython3",
   "version": "3.10.6"
  }
 },
 "nbformat": 4,
 "nbformat_minor": 5
}
