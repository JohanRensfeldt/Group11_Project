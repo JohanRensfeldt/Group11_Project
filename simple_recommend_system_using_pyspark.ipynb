{
 "cells": [
  {
   "cell_type": "code",
   "execution_count": 1,
   "id": "306e4cc5",
   "metadata": {},
   "outputs": [],
   "source": [
    "import time\n",
    "import pandas as pd\n",
    "from pyspark.sql import SparkSession\n",
    "from operator import add\n",
    "import os\n",
    "from pyspark.ml.evaluation import RegressionEvaluator\n",
    "from pyspark.sql.functions import explode, col\n",
    "from pyspark.sql.functions import length\n",
    "from pyspark.sql.functions import regexp_replace, lower\n",
    "from pyspark.sql.functions import avg, max\n",
    "import matplotlib.pyplot as plt\n",
    "from pyspark.sql.functions import collect_list\n",
    "from pyspark.ml.feature import HashingTF, IDF, Tokenizer\n",
    "from pyspark.ml.recommendation import ALS\n",
    "from pyspark.sql.functions import udf\n",
    "from pyspark.sql.types import ArrayType, StringType\n",
    "from pyspark.ml.feature import StringIndexer\n",
    "import pandas as pd\n",
    "import numpy as np"
   ]
  },
  {
   "cell_type": "code",
   "execution_count": 2,
   "id": "3013d689",
   "metadata": {},
   "outputs": [
    {
     "name": "stderr",
     "output_type": "stream",
     "text": [
      "WARNING: An illegal reflective access operation has occurred\n",
      "WARNING: Illegal reflective access by org.apache.spark.unsafe.Platform (file:/home/ubuntu/.local/lib/python3.10/site-packages/pyspark/jars/spark-unsafe_2.12-3.2.3.jar) to constructor java.nio.DirectByteBuffer(long,int)\n",
      "WARNING: Please consider reporting this to the maintainers of org.apache.spark.unsafe.Platform\n",
      "WARNING: Use --illegal-access=warn to enable warnings of further illegal reflective access operations\n",
      "WARNING: All illegal access operations will be denied in a future release\n",
      "Using Spark's default log4j profile: org/apache/spark/log4j-defaults.properties\n",
      "Setting default log level to \"WARN\".\n",
      "To adjust logging level use sc.setLogLevel(newLevel). For SparkR, use setLogLevel(newLevel).\n",
      "23/03/14 05:44:58 WARN NativeCodeLoader: Unable to load native-hadoop library for your platform... using builtin-java classes where applicable\n"
     ]
    }
   ],
   "source": [
    "spark_session = SparkSession.builder\\\n",
    ".appName(\"yufengchen_app\")\\\n",
    ".config(\"spark.dynamicAllocation.enabled\", True)\\\n",
    ".config(\"spark.dynamicAllocation.shuffleTracking.enabled\",True)\\\n",
    ".config(\"spark.shuffle.service.enabled\", True)\\\n",
    ".config(\"spark.dynamicAllocation.executorIdleTimeout\",\"30s\")\\\n",
    ".config(\"spark.cores.max\", 8)\\\n",
    ".config(\"spark.executor.memory\", \"16g\") \\\n",
    ".config(\"spark.driver.memory\", \"16g\") \\\n",
    ".getOrCreate()\n",
    "\n",
    "spark_context = spark_session.sparkContext\n",
    "spark_context.setLogLevel(\"ERROR\")\n",
    "\n",
    "\n",
    "file_path = '/home/ubuntu/preprocessed_data/RC_2011-08/part-00000-c10c1768-58ca-4301-b700-3650017b2f6b-c000.json'"
   ]
  },
  {
   "cell_type": "code",
   "execution_count": 3,
   "id": "7135055f",
   "metadata": {},
   "outputs": [
    {
     "name": "stderr",
     "output_type": "stream",
     "text": [
      "                                                                                \r"
     ]
    }
   ],
   "source": [
    "# read the json\n",
    "reddit_comments_df = spark_session.read.json(file_path).select('author', 'link_id', 'score')"
   ]
  },
  {
   "cell_type": "code",
   "execution_count": 4,
   "id": "ed521e8f",
   "metadata": {},
   "outputs": [
    {
     "name": "stderr",
     "output_type": "stream",
     "text": [
      "                                                                                \r"
     ]
    }
   ],
   "source": [
    "author_indexer = StringIndexer(inputCol=\"author\", outputCol=\"user_id\")\n",
    "reddit_comments_df = author_indexer.fit(reddit_comments_df).transform(reddit_comments_df)"
   ]
  },
  {
   "cell_type": "code",
   "execution_count": 5,
   "id": "22841e6f",
   "metadata": {},
   "outputs": [
    {
     "name": "stderr",
     "output_type": "stream",
     "text": [
      "                                                                                \r"
     ]
    }
   ],
   "source": [
    "link_indexer = StringIndexer(inputCol=\"link_id\", outputCol=\"item_id\")\n",
    "reddit_comments_df = link_indexer.fit(reddit_comments_df).transform(reddit_comments_df)"
   ]
  },
  {
   "cell_type": "code",
   "execution_count": 6,
   "id": "3d533300",
   "metadata": {},
   "outputs": [],
   "source": [
    "(training_data, test_data) = reddit_comments_df.randomSplit([0.3, 0.7])"
   ]
  },
  {
   "cell_type": "code",
   "execution_count": 7,
   "id": "3bb7bde2",
   "metadata": {},
   "outputs": [
    {
     "name": "stderr",
     "output_type": "stream",
     "text": [
      "                                                                                \r"
     ]
    }
   ],
   "source": [
    "# ALS model\n",
    "als = ALS(userCol=\"user_id\", itemCol=\"item_id\", ratingCol=\"score\", nonnegative=True, implicitPrefs=False, coldStartStrategy=\"drop\")\n",
    "model = als.fit(training_data)"
   ]
  },
  {
   "cell_type": "code",
   "execution_count": 14,
   "id": "6087a455",
   "metadata": {},
   "outputs": [],
   "source": [
    "# predict\n",
    "# predictions = model.transform(test_data)\n",
    "predictions = model.transform(reddit_comments_df)"
   ]
  },
  {
   "cell_type": "code",
   "execution_count": 15,
   "id": "ac5c01c9",
   "metadata": {},
   "outputs": [
    {
     "name": "stderr",
     "output_type": "stream",
     "text": [
      "[Stage 382:>                                                        (0 + 3) / 3]\r"
     ]
    },
    {
     "name": "stdout",
     "output_type": "stream",
     "text": [
      "Root-mean-square error = 30.608016447175398\n"
     ]
    },
    {
     "name": "stderr",
     "output_type": "stream",
     "text": [
      "\r",
      "                                                                                \r"
     ]
    }
   ],
   "source": [
    "evaluator = RegressionEvaluator(metricName=\"rmse\", labelCol=\"score\", predictionCol=\"prediction\")\n",
    "rmse = evaluator.evaluate(predictions)\n",
    "print(\"Root-mean-square error = \" + str(rmse))"
   ]
  },
  {
   "cell_type": "code",
   "execution_count": 16,
   "id": "678c3966",
   "metadata": {},
   "outputs": [
    {
     "name": "stderr",
     "output_type": "stream",
     "text": [
      "                                                                                \r"
     ]
    }
   ],
   "source": [
    "predicted_scores = predictions.select(\"prediction\").rdd.flatMap(lambda x: x).collect()"
   ]
  },
  {
   "cell_type": "code",
   "execution_count": 17,
   "id": "9af0b326",
   "metadata": {},
   "outputs": [
    {
     "name": "stderr",
     "output_type": "stream",
     "text": [
      "                                                                                \r"
     ]
    }
   ],
   "source": [
    "actual_scores = predictions.select(\"score\").rdd.flatMap(lambda x: x).collect()"
   ]
  },
  {
   "cell_type": "code",
   "execution_count": 18,
   "id": "b657176b",
   "metadata": {},
   "outputs": [
    {
     "data": {
      "image/png": "[encoded data removed]",
      "text/plain": [
       "<Figure size 640x480 with 1 Axes>"
      ]
     },
     "metadata": {},
     "output_type": "display_data"
    }
   ],
   "source": [
    "plt.scatter(predicted_scores, actual_scores, s=3)\n",
    "plt.xlabel(\"Predicted Score\")\n",
    "plt.ylabel(\"Actual Score\")\n",
    "plt.title(\"Collaborative Filtering Recommender Results\")\n",
    "plt.show()"
   ]
  },
  {
   "cell_type": "code",
   "execution_count": null,
   "id": "b2fe2db7",
   "metadata": {},
   "outputs": [],
   "source": []
  },
  {
   "cell_type": "code",
   "execution_count": null,
   "id": "14cd1b51",
   "metadata": {},
   "outputs": [],
   "source": []
  },
  {
   "cell_type": "code",
   "execution_count": null,
   "id": "9bab2571",
   "metadata": {},
   "outputs": [],
   "source": [
    "# spark.stop()"
   ]
  },
  {
   "cell_type": "code",
   "execution_count": null,
   "id": "66ce4524",
   "metadata": {},
   "outputs": [],
   "source": []
  }
 ],
 "metadata": {
  "kernelspec": {
   "display_name": "Python 3 (ipykernel)",
   "language": "python",
   "name": "python3"
  },
  "language_info": {
   "codemirror_mode": {
    "name": "ipython",
    "version": 3
   },
   "file_extension": ".py",
   "mimetype": "text/x-python",
   "name": "python",
   "nbconvert_exporter": "python",
   "pygments_lexer": "ipython3",
   "version": "3.10.6"
  }
 },
 "nbformat": 4,
 "nbformat_minor": 5
}
